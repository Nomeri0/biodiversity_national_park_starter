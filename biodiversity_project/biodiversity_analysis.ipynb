{
 "cells": [
  {
   "cell_type": "markdown",
   "id": "4f98e340-9c09-4263-b80d-9f47c3ce8d01",
   "metadata": {},
   "source": [
    "## Project Disclaimer\n",
    "\n",
    "This project has been developed as part of a Codecademy course, utilizing data provided specifically for the purpose of the project. The dataset, which has been supplied by Codecademy, is entirely fictional and has been created to simulate real-world scenarios, allowing learners to practice data analysis techniques in a controlled environment."
   ]
  },
  {
   "cell_type": "markdown",
   "id": "0c08afcc-8ff3-4084-8202-fb0146058754",
   "metadata": {},
   "source": [
    "## Project Introduction\n",
    "\n",
    "This project involves analyzing data from the National Parks Service regarding endangered species across different parks. The goal is to identify patterns and insights related to the conservation statuses of these species, exploring which types of species are more likely to become endangered and investigating broader conservation trends.\n",
    "\n"
   ]
  },
  {
   "cell_type": "markdown",
   "id": "15367a1d-1fbb-4728-a6a5-5b5760883afb",
   "metadata": {},
   "source": [
    "## Project Goals\n",
    "- What is the distribution of conservation status for species?\n",
    "- Are certain types of species more likely to be endangered?\n",
    "- Are the differences between species and their conservation status significant?\n",
    "- Which animal is most prevalent and what is their distribution amongst parks?"
   ]
  },
  {
   "cell_type": "code",
   "execution_count": 5,
   "id": "3e24a390-864b-4b29-8d3d-ff0846e513d6",
   "metadata": {},
   "outputs": [],
   "source": [
    "import pandas as pd\n",
    "import numpy as np\n",
    "\n",
    "from matplotlib import pyplot as plt\n",
    "import seaborn as sns"
   ]
  },
  {
   "cell_type": "markdown",
   "id": "3bbad8e4-97e6-4f73-bcda-05f5365ad4a0",
   "metadata": {},
   "source": [
    "### species_info.csv\n",
    "\n",
    "category - class of animal\n",
    "\n",
    "scientific_name - the scientific name of each species\n",
    "\n",
    "common_name - the common names of each species\n",
    "\n",
    "conservation_status - each species’ current conservation status"
   ]
  },
  {
   "cell_type": "code",
   "execution_count": 6,
   "id": "f5701ba4-3656-42ff-8076-553814758618",
   "metadata": {},
   "outputs": [
    {
     "data": {
      "text/html": [
       "<div>\n",
       "<style scoped>\n",
       "    .dataframe tbody tr th:only-of-type {\n",
       "        vertical-align: middle;\n",
       "    }\n",
       "\n",
       "    .dataframe tbody tr th {\n",
       "        vertical-align: top;\n",
       "    }\n",
       "\n",
       "    .dataframe thead th {\n",
       "        text-align: right;\n",
       "    }\n",
       "</style>\n",
       "<table border=\"1\" class=\"dataframe\">\n",
       "  <thead>\n",
       "    <tr style=\"text-align: right;\">\n",
       "      <th></th>\n",
       "      <th>category</th>\n",
       "      <th>scientific_name</th>\n",
       "      <th>common_names</th>\n",
       "      <th>conservation_status</th>\n",
       "    </tr>\n",
       "  </thead>\n",
       "  <tbody>\n",
       "    <tr>\n",
       "      <th>0</th>\n",
       "      <td>Mammal</td>\n",
       "      <td>Clethrionomys gapperi gapperi</td>\n",
       "      <td>Gapper's Red-Backed Vole</td>\n",
       "      <td>NaN</td>\n",
       "    </tr>\n",
       "    <tr>\n",
       "      <th>1</th>\n",
       "      <td>Mammal</td>\n",
       "      <td>Bos bison</td>\n",
       "      <td>American Bison, Bison</td>\n",
       "      <td>NaN</td>\n",
       "    </tr>\n",
       "    <tr>\n",
       "      <th>2</th>\n",
       "      <td>Mammal</td>\n",
       "      <td>Bos taurus</td>\n",
       "      <td>Aurochs, Aurochs, Domestic Cattle (Feral), Dom...</td>\n",
       "      <td>NaN</td>\n",
       "    </tr>\n",
       "    <tr>\n",
       "      <th>3</th>\n",
       "      <td>Mammal</td>\n",
       "      <td>Ovis aries</td>\n",
       "      <td>Domestic Sheep, Mouflon, Red Sheep, Sheep (Feral)</td>\n",
       "      <td>NaN</td>\n",
       "    </tr>\n",
       "    <tr>\n",
       "      <th>4</th>\n",
       "      <td>Mammal</td>\n",
       "      <td>Cervus elaphus</td>\n",
       "      <td>Wapiti Or Elk</td>\n",
       "      <td>NaN</td>\n",
       "    </tr>\n",
       "  </tbody>\n",
       "</table>\n",
       "</div>"
      ],
      "text/plain": [
       "  category                scientific_name  \\\n",
       "0   Mammal  Clethrionomys gapperi gapperi   \n",
       "1   Mammal                      Bos bison   \n",
       "2   Mammal                     Bos taurus   \n",
       "3   Mammal                     Ovis aries   \n",
       "4   Mammal                 Cervus elaphus   \n",
       "\n",
       "                                        common_names conservation_status  \n",
       "0                           Gapper's Red-Backed Vole                 NaN  \n",
       "1                              American Bison, Bison                 NaN  \n",
       "2  Aurochs, Aurochs, Domestic Cattle (Feral), Dom...                 NaN  \n",
       "3  Domestic Sheep, Mouflon, Red Sheep, Sheep (Feral)                 NaN  \n",
       "4                                      Wapiti Or Elk                 NaN  "
      ]
     },
     "execution_count": 6,
     "metadata": {},
     "output_type": "execute_result"
    }
   ],
   "source": [
    "species = pd.read_csv('species_info.csv')\n",
    "species.head()"
   ]
  },
  {
   "cell_type": "markdown",
   "id": "7f56924c-29d4-4169-a01d-8401a837db49",
   "metadata": {},
   "source": [
    "### observations.csv\n",
    "\n",
    "scientific_name - the scientific name of each species\n",
    "\n",
    "park_name - Park where species were found\n",
    "\n",
    "observations - the number of times each species was observed at park\n"
   ]
  },
  {
   "cell_type": "code",
   "execution_count": 11,
   "id": "90114766-328d-4785-b614-45b638db24ef",
   "metadata": {},
   "outputs": [
    {
     "data": {
      "text/html": [
       "<div>\n",
       "<style scoped>\n",
       "    .dataframe tbody tr th:only-of-type {\n",
       "        vertical-align: middle;\n",
       "    }\n",
       "\n",
       "    .dataframe tbody tr th {\n",
       "        vertical-align: top;\n",
       "    }\n",
       "\n",
       "    .dataframe thead th {\n",
       "        text-align: right;\n",
       "    }\n",
       "</style>\n",
       "<table border=\"1\" class=\"dataframe\">\n",
       "  <thead>\n",
       "    <tr style=\"text-align: right;\">\n",
       "      <th></th>\n",
       "      <th>scientific_name</th>\n",
       "      <th>park_name</th>\n",
       "      <th>observations</th>\n",
       "    </tr>\n",
       "  </thead>\n",
       "  <tbody>\n",
       "    <tr>\n",
       "      <th>0</th>\n",
       "      <td>Vicia benghalensis</td>\n",
       "      <td>Great Smoky Mountains National Park</td>\n",
       "      <td>68</td>\n",
       "    </tr>\n",
       "    <tr>\n",
       "      <th>1</th>\n",
       "      <td>Neovison vison</td>\n",
       "      <td>Great Smoky Mountains National Park</td>\n",
       "      <td>77</td>\n",
       "    </tr>\n",
       "    <tr>\n",
       "      <th>2</th>\n",
       "      <td>Prunus subcordata</td>\n",
       "      <td>Yosemite National Park</td>\n",
       "      <td>138</td>\n",
       "    </tr>\n",
       "    <tr>\n",
       "      <th>3</th>\n",
       "      <td>Abutilon theophrasti</td>\n",
       "      <td>Bryce National Park</td>\n",
       "      <td>84</td>\n",
       "    </tr>\n",
       "    <tr>\n",
       "      <th>4</th>\n",
       "      <td>Githopsis specularioides</td>\n",
       "      <td>Great Smoky Mountains National Park</td>\n",
       "      <td>85</td>\n",
       "    </tr>\n",
       "  </tbody>\n",
       "</table>\n",
       "</div>"
      ],
      "text/plain": [
       "            scientific_name                            park_name  observations\n",
       "0        Vicia benghalensis  Great Smoky Mountains National Park            68\n",
       "1            Neovison vison  Great Smoky Mountains National Park            77\n",
       "2         Prunus subcordata               Yosemite National Park           138\n",
       "3      Abutilon theophrasti                  Bryce National Park            84\n",
       "4  Githopsis specularioides  Great Smoky Mountains National Park            85"
      ]
     },
     "execution_count": 11,
     "metadata": {},
     "output_type": "execute_result"
    }
   ],
   "source": [
    "observations = pd.read_csv('observations.csv')\n",
    "observations.head()"
   ]
  },
  {
   "cell_type": "markdown",
   "id": "89e0548b-1dc1-447a-bbb0-8012e02c1f82",
   "metadata": {},
   "source": [
    "## Data Characteristics\n",
    "Next, there will be a check for the dimensions of the data sets, for species there are 5,824 rows and 4 columns while observations has 23,296 rows and 3 columns."
   ]
  },
  {
   "cell_type": "code",
   "execution_count": 13,
   "id": "e5d8040b-b161-4393-83b7-27b48daa2075",
   "metadata": {},
   "outputs": [
    {
     "name": "stdout",
     "output_type": "stream",
     "text": [
      "species shape: (5824, 4)\n",
      "observations shape: (23296, 3)\n"
     ]
    }
   ],
   "source": [
    "print(f\"species shape: {species.shape}\")\n",
    "print(f\"observations shape: {observations.shape}\")"
   ]
  },
  {
   "cell_type": "markdown",
   "id": "9450b10f-6bf0-4036-a271-f45f2d140785",
   "metadata": {},
   "source": [
    "## Checking data types and missing values"
   ]
  },
  {
   "cell_type": "code",
   "execution_count": 15,
   "id": "19bec992-9727-413c-82f5-ee538d0ffc8f",
   "metadata": {},
   "outputs": [
    {
     "name": "stdout",
     "output_type": "stream",
     "text": [
      "<class 'pandas.core.frame.DataFrame'>\n",
      "RangeIndex: 5824 entries, 0 to 5823\n",
      "Data columns (total 4 columns):\n",
      " #   Column               Non-Null Count  Dtype \n",
      "---  ------               --------------  ----- \n",
      " 0   category             5824 non-null   object\n",
      " 1   scientific_name      5824 non-null   object\n",
      " 2   common_names         5824 non-null   object\n",
      " 3   conservation_status  191 non-null    object\n",
      "dtypes: object(4)\n",
      "memory usage: 182.1+ KB\n",
      "<class 'pandas.core.frame.DataFrame'>\n",
      "RangeIndex: 23296 entries, 0 to 23295\n",
      "Data columns (total 3 columns):\n",
      " #   Column           Non-Null Count  Dtype \n",
      "---  ------           --------------  ----- \n",
      " 0   scientific_name  23296 non-null  object\n",
      " 1   park_name        23296 non-null  object\n",
      " 2   observations     23296 non-null  int64 \n",
      "dtypes: int64(1), object(2)\n",
      "memory usage: 546.1+ KB\n"
     ]
    }
   ],
   "source": [
    "species.info()\n",
    "observations.info()"
   ]
  },
  {
   "cell_type": "code",
   "execution_count": 17,
   "id": "54405230-958d-4a9f-8b9a-6f078fb37095",
   "metadata": {},
   "outputs": [
    {
     "data": {
      "text/plain": [
       "category                  0\n",
       "scientific_name           0\n",
       "common_names              0\n",
       "conservation_status    5633\n",
       "dtype: int64"
      ]
     },
     "execution_count": 17,
     "metadata": {},
     "output_type": "execute_result"
    }
   ],
   "source": [
    "observations.isnull().sum()\n",
    "species.isnull().sum()"
   ]
  },
  {
   "cell_type": "markdown",
   "id": "a2d7e57d-5eb9-46ec-bdc0-85373cf8379b",
   "metadata": {},
   "source": [
    "## Handling Missing Data\n",
    "\n",
    "Since the conservation status is missing 5633 values, this means that there are many species in the dataset that do not have the conservation status specified."
   ]
  },
  {
   "cell_type": "code",
   "execution_count": 19,
   "id": "98837a13-9cab-464c-a9f0-ee1f324d5c89",
   "metadata": {},
   "outputs": [
    {
     "data": {
      "text/plain": [
       "conservation_status\n",
       "Species of Concern    161\n",
       "Endangered             16\n",
       "Threatened             10\n",
       "In Recovery             4\n",
       "Name: count, dtype: int64"
      ]
     },
     "execution_count": 19,
     "metadata": {},
     "output_type": "execute_result"
    }
   ],
   "source": [
    "# By checking the categories in this column,it gave as a much clearer idea of what type of values are missing in the column.\n",
    "species['conservation_status'].value_counts()"
   ]
  },
  {
   "cell_type": "code",
   "execution_count": 23,
   "id": "2dcf4e43-5911-4959-8cdf-436ddca3c64a",
   "metadata": {},
   "outputs": [
    {
     "data": {
      "text/plain": [
       "0       Not classified\n",
       "1       Not classified\n",
       "2       Not classified\n",
       "3       Not classified\n",
       "4       Not classified\n",
       "             ...      \n",
       "5819    Not classified\n",
       "5820    Not classified\n",
       "5821    Not classified\n",
       "5822    Not classified\n",
       "5823    Not classified\n",
       "Name: conservation_status, Length: 5824, dtype: object"
      ]
     },
     "execution_count": 23,
     "metadata": {},
     "output_type": "execute_result"
    }
   ],
   "source": [
    "# The absence of conservation status implies that the species is not categorized as endangered or threatened, filling the missing value\n",
    "# with 'Not classified' makes more sense. This way we retain the data yet provided context about the missing information.\n",
    "\n",
    "species['conservation_status'].fillna('Not classified', inplace=True)\n",
    "species.conservation_status"
   ]
  },
  {
   "cell_type": "markdown",
   "id": "9f48fa53-7be4-473b-bad9-a96bf8d47922",
   "metadata": {},
   "source": [
    "## Check relationships between key columns:\n"
   ]
  },
  {
   "cell_type": "code",
   "execution_count": 34,
   "id": "cc7a457c-09f2-4885-92c2-99cc2992958f",
   "metadata": {},
   "outputs": [
    {
     "data": {
      "text/plain": [
       "conservation_status  category         \n",
       "Endangered           Mammal                  7\n",
       "                     Bird                    4\n",
       "                     Fish                    3\n",
       "                     Amphibian               1\n",
       "                     Vascular Plant          1\n",
       "In Recovery          Bird                    3\n",
       "                     Mammal                  1\n",
       "Not classified       Vascular Plant       4424\n",
       "                     Bird                  442\n",
       "                     Nonvascular Plant     328\n",
       "                     Mammal                176\n",
       "                     Fish                  116\n",
       "                     Reptile                74\n",
       "                     Amphibian              73\n",
       "Species of Concern   Bird                   72\n",
       "                     Vascular Plant         43\n",
       "                     Mammal                 28\n",
       "                     Nonvascular Plant       5\n",
       "                     Reptile                 5\n",
       "                     Amphibian               4\n",
       "                     Fish                    4\n",
       "Threatened           Fish                    4\n",
       "                     Amphibian               2\n",
       "                     Mammal                  2\n",
       "                     Vascular Plant          2\n",
       "Name: count, dtype: int64"
      ]
     },
     "execution_count": 34,
     "metadata": {},
     "output_type": "execute_result"
    }
   ],
   "source": [
    "# checking to see how many species fall into different conservation status:\n",
    "\n",
    "species.groupby('conservation_status')['category'].value_counts()"
   ]
  },
  {
   "cell_type": "markdown",
   "id": "c4d4a67f-2686-4404-b861-bf8ac81805ad",
   "metadata": {},
   "source": [
    "## Looking at observations data"
   ]
  },
  {
   "cell_type": "code",
   "execution_count": 38,
   "id": "da208eba-a4fa-4d45-af8d-9b94a3944473",
   "metadata": {},
   "outputs": [
    {
     "data": {
      "text/plain": [
       "scientific_name\n",
       "Myotis lucifugus         12\n",
       "Puma concolor            12\n",
       "Hypochaeris radicata     12\n",
       "Holcus lanatus           12\n",
       "Streptopelia decaocto    12\n",
       "Castor canadensis        12\n",
       "Procyon lotor            12\n",
       "Columba livia            12\n",
       "Canis lupus              12\n",
       "Lactuca biennis           8\n",
       "Name: count, dtype: int64"
      ]
     },
     "execution_count": 38,
     "metadata": {},
     "output_type": "execute_result"
    }
   ],
   "source": [
    "# Top species Observed: To see the most frequently observed species\n",
    "\n",
    "observations.scientific_name.value_counts().head(10)"
   ]
  },
  {
   "cell_type": "code",
   "execution_count": 40,
   "id": "5cbd09cf-943e-4528-af23-4538a670579c",
   "metadata": {},
   "outputs": [
    {
     "data": {
      "text/plain": [
       "park_name\n",
       "Yellowstone National Park              1443562\n",
       "Yosemite National Park                  863332\n",
       "Bryce National Park                     576025\n",
       "Great Smoky Mountains National Park     431820\n",
       "Name: observations, dtype: int64"
      ]
     },
     "execution_count": 40,
     "metadata": {},
     "output_type": "execute_result"
    }
   ],
   "source": [
    "# Total Observations per park: checking which park has the most total observations.\n",
    "\n",
    "observations.groupby('park_name')['observations'].sum().sort_values(ascending=False)"
   ]
  },
  {
   "cell_type": "markdown",
   "id": "56b56413-3fe4-4449-82a1-0c8fcc32ee43",
   "metadata": {},
   "source": [
    "## Merging DataFrames\n",
    "\n",
    "Merging both DataFrames by their common column (scientific_name) will give us a richer insight and it will make for a much easier and better understanding of the data and the questions we are trying to answer. \n"
   ]
  },
  {
   "cell_type": "code",
   "execution_count": 42,
   "id": "a44b2d48-4dbd-48e9-acf4-0da83ccf7f57",
   "metadata": {},
   "outputs": [
    {
     "data": {
      "text/html": [
       "<div>\n",
       "<style scoped>\n",
       "    .dataframe tbody tr th:only-of-type {\n",
       "        vertical-align: middle;\n",
       "    }\n",
       "\n",
       "    .dataframe tbody tr th {\n",
       "        vertical-align: top;\n",
       "    }\n",
       "\n",
       "    .dataframe thead th {\n",
       "        text-align: right;\n",
       "    }\n",
       "</style>\n",
       "<table border=\"1\" class=\"dataframe\">\n",
       "  <thead>\n",
       "    <tr style=\"text-align: right;\">\n",
       "      <th></th>\n",
       "      <th>category</th>\n",
       "      <th>scientific_name</th>\n",
       "      <th>common_names</th>\n",
       "      <th>conservation_status</th>\n",
       "      <th>park_name</th>\n",
       "      <th>observations</th>\n",
       "    </tr>\n",
       "  </thead>\n",
       "  <tbody>\n",
       "    <tr>\n",
       "      <th>0</th>\n",
       "      <td>Mammal</td>\n",
       "      <td>Clethrionomys gapperi gapperi</td>\n",
       "      <td>Gapper's Red-Backed Vole</td>\n",
       "      <td>Not classified</td>\n",
       "      <td>Bryce National Park</td>\n",
       "      <td>130</td>\n",
       "    </tr>\n",
       "    <tr>\n",
       "      <th>1</th>\n",
       "      <td>Mammal</td>\n",
       "      <td>Clethrionomys gapperi gapperi</td>\n",
       "      <td>Gapper's Red-Backed Vole</td>\n",
       "      <td>Not classified</td>\n",
       "      <td>Yellowstone National Park</td>\n",
       "      <td>270</td>\n",
       "    </tr>\n",
       "    <tr>\n",
       "      <th>2</th>\n",
       "      <td>Mammal</td>\n",
       "      <td>Clethrionomys gapperi gapperi</td>\n",
       "      <td>Gapper's Red-Backed Vole</td>\n",
       "      <td>Not classified</td>\n",
       "      <td>Great Smoky Mountains National Park</td>\n",
       "      <td>98</td>\n",
       "    </tr>\n",
       "    <tr>\n",
       "      <th>3</th>\n",
       "      <td>Mammal</td>\n",
       "      <td>Clethrionomys gapperi gapperi</td>\n",
       "      <td>Gapper's Red-Backed Vole</td>\n",
       "      <td>Not classified</td>\n",
       "      <td>Yosemite National Park</td>\n",
       "      <td>117</td>\n",
       "    </tr>\n",
       "    <tr>\n",
       "      <th>4</th>\n",
       "      <td>Mammal</td>\n",
       "      <td>Bos bison</td>\n",
       "      <td>American Bison, Bison</td>\n",
       "      <td>Not classified</td>\n",
       "      <td>Yosemite National Park</td>\n",
       "      <td>128</td>\n",
       "    </tr>\n",
       "    <tr>\n",
       "      <th>5</th>\n",
       "      <td>Mammal</td>\n",
       "      <td>Bos bison</td>\n",
       "      <td>American Bison, Bison</td>\n",
       "      <td>Not classified</td>\n",
       "      <td>Yellowstone National Park</td>\n",
       "      <td>269</td>\n",
       "    </tr>\n",
       "    <tr>\n",
       "      <th>6</th>\n",
       "      <td>Mammal</td>\n",
       "      <td>Bos bison</td>\n",
       "      <td>American Bison, Bison</td>\n",
       "      <td>Not classified</td>\n",
       "      <td>Bryce National Park</td>\n",
       "      <td>68</td>\n",
       "    </tr>\n",
       "    <tr>\n",
       "      <th>7</th>\n",
       "      <td>Mammal</td>\n",
       "      <td>Bos bison</td>\n",
       "      <td>American Bison, Bison</td>\n",
       "      <td>Not classified</td>\n",
       "      <td>Great Smoky Mountains National Park</td>\n",
       "      <td>77</td>\n",
       "    </tr>\n",
       "    <tr>\n",
       "      <th>8</th>\n",
       "      <td>Mammal</td>\n",
       "      <td>Bos taurus</td>\n",
       "      <td>Aurochs, Aurochs, Domestic Cattle (Feral), Dom...</td>\n",
       "      <td>Not classified</td>\n",
       "      <td>Bryce National Park</td>\n",
       "      <td>99</td>\n",
       "    </tr>\n",
       "    <tr>\n",
       "      <th>9</th>\n",
       "      <td>Mammal</td>\n",
       "      <td>Bos taurus</td>\n",
       "      <td>Aurochs, Aurochs, Domestic Cattle (Feral), Dom...</td>\n",
       "      <td>Not classified</td>\n",
       "      <td>Yosemite National Park</td>\n",
       "      <td>124</td>\n",
       "    </tr>\n",
       "  </tbody>\n",
       "</table>\n",
       "</div>"
      ],
      "text/plain": [
       "  category                scientific_name  \\\n",
       "0   Mammal  Clethrionomys gapperi gapperi   \n",
       "1   Mammal  Clethrionomys gapperi gapperi   \n",
       "2   Mammal  Clethrionomys gapperi gapperi   \n",
       "3   Mammal  Clethrionomys gapperi gapperi   \n",
       "4   Mammal                      Bos bison   \n",
       "5   Mammal                      Bos bison   \n",
       "6   Mammal                      Bos bison   \n",
       "7   Mammal                      Bos bison   \n",
       "8   Mammal                     Bos taurus   \n",
       "9   Mammal                     Bos taurus   \n",
       "\n",
       "                                        common_names conservation_status  \\\n",
       "0                           Gapper's Red-Backed Vole      Not classified   \n",
       "1                           Gapper's Red-Backed Vole      Not classified   \n",
       "2                           Gapper's Red-Backed Vole      Not classified   \n",
       "3                           Gapper's Red-Backed Vole      Not classified   \n",
       "4                              American Bison, Bison      Not classified   \n",
       "5                              American Bison, Bison      Not classified   \n",
       "6                              American Bison, Bison      Not classified   \n",
       "7                              American Bison, Bison      Not classified   \n",
       "8  Aurochs, Aurochs, Domestic Cattle (Feral), Dom...      Not classified   \n",
       "9  Aurochs, Aurochs, Domestic Cattle (Feral), Dom...      Not classified   \n",
       "\n",
       "                             park_name  observations  \n",
       "0                  Bryce National Park           130  \n",
       "1            Yellowstone National Park           270  \n",
       "2  Great Smoky Mountains National Park            98  \n",
       "3               Yosemite National Park           117  \n",
       "4               Yosemite National Park           128  \n",
       "5            Yellowstone National Park           269  \n",
       "6                  Bryce National Park            68  \n",
       "7  Great Smoky Mountains National Park            77  \n",
       "8                  Bryce National Park            99  \n",
       "9               Yosemite National Park           124  "
      ]
     },
     "execution_count": 42,
     "metadata": {},
     "output_type": "execute_result"
    }
   ],
   "source": [
    "merged_df = pd.merge(species, observations, how='left', on='scientific_name')\n",
    "\n",
    "merged_df.head(10)"
   ]
  },
  {
   "cell_type": "markdown",
   "id": "a75a645f-96a3-487c-afd0-72a5ef1a0c0b",
   "metadata": {},
   "source": [
    "## Understand the conservation status distribution"
   ]
  },
  {
   "cell_type": "code",
   "execution_count": 45,
   "id": "d11cfd0e-3da6-4f2f-9f2c-5e325cf942dc",
   "metadata": {},
   "outputs": [
    {
     "data": {
      "text/plain": [
       "conservation_status\n",
       "Not classified        24752\n",
       "Species of Concern      732\n",
       "Endangered               80\n",
       "Threatened               44\n",
       "In Recovery              24\n",
       "Name: count, dtype: int64"
      ]
     },
     "execution_count": 45,
     "metadata": {},
     "output_type": "execute_result"
    }
   ],
   "source": [
    "# Check the unique conservation statuses and their counts\n",
    "conservation_counts = merged_df['conservation_status'].value_counts()\n",
    "conservation_counts"
   ]
  },
  {
   "cell_type": "markdown",
   "id": "d6190044-59cb-4bbc-87b2-19b012ff2ad1",
   "metadata": {},
   "source": [
    "## Analyze Species Categories"
   ]
  },
  {
   "cell_type": "code",
   "execution_count": 50,
   "id": "85416b34-8f52-4802-9606-6dba572e1ac7",
   "metadata": {},
   "outputs": [
    {
     "data": {
      "text/html": [
       "<div>\n",
       "<style scoped>\n",
       "    .dataframe tbody tr th:only-of-type {\n",
       "        vertical-align: middle;\n",
       "    }\n",
       "\n",
       "    .dataframe tbody tr th {\n",
       "        vertical-align: top;\n",
       "    }\n",
       "\n",
       "    .dataframe thead th {\n",
       "        text-align: right;\n",
       "    }\n",
       "</style>\n",
       "<table border=\"1\" class=\"dataframe\">\n",
       "  <thead>\n",
       "    <tr style=\"text-align: right;\">\n",
       "      <th>conservation_status</th>\n",
       "      <th>Endangered</th>\n",
       "      <th>In Recovery</th>\n",
       "      <th>Not classified</th>\n",
       "      <th>Species of Concern</th>\n",
       "      <th>Threatened</th>\n",
       "    </tr>\n",
       "    <tr>\n",
       "      <th>category</th>\n",
       "      <th></th>\n",
       "      <th></th>\n",
       "      <th></th>\n",
       "      <th></th>\n",
       "      <th></th>\n",
       "    </tr>\n",
       "  </thead>\n",
       "  <tbody>\n",
       "    <tr>\n",
       "      <th>Amphibian</th>\n",
       "      <td>4</td>\n",
       "      <td>0</td>\n",
       "      <td>300</td>\n",
       "      <td>16</td>\n",
       "      <td>8</td>\n",
       "    </tr>\n",
       "    <tr>\n",
       "      <th>Bird</th>\n",
       "      <td>16</td>\n",
       "      <td>12</td>\n",
       "      <td>2016</td>\n",
       "      <td>320</td>\n",
       "      <td>0</td>\n",
       "    </tr>\n",
       "    <tr>\n",
       "      <th>Fish</th>\n",
       "      <td>12</td>\n",
       "      <td>0</td>\n",
       "      <td>476</td>\n",
       "      <td>16</td>\n",
       "      <td>20</td>\n",
       "    </tr>\n",
       "    <tr>\n",
       "      <th>Mammal</th>\n",
       "      <td>44</td>\n",
       "      <td>12</td>\n",
       "      <td>968</td>\n",
       "      <td>168</td>\n",
       "      <td>8</td>\n",
       "    </tr>\n",
       "    <tr>\n",
       "      <th>Nonvascular Plant</th>\n",
       "      <td>0</td>\n",
       "      <td>0</td>\n",
       "      <td>1312</td>\n",
       "      <td>20</td>\n",
       "      <td>0</td>\n",
       "    </tr>\n",
       "    <tr>\n",
       "      <th>Reptile</th>\n",
       "      <td>0</td>\n",
       "      <td>0</td>\n",
       "      <td>304</td>\n",
       "      <td>20</td>\n",
       "      <td>0</td>\n",
       "    </tr>\n",
       "    <tr>\n",
       "      <th>Vascular Plant</th>\n",
       "      <td>4</td>\n",
       "      <td>0</td>\n",
       "      <td>19376</td>\n",
       "      <td>172</td>\n",
       "      <td>8</td>\n",
       "    </tr>\n",
       "  </tbody>\n",
       "</table>\n",
       "</div>"
      ],
      "text/plain": [
       "conservation_status  Endangered  In Recovery  Not classified  \\\n",
       "category                                                       \n",
       "Amphibian                     4            0             300   \n",
       "Bird                         16           12            2016   \n",
       "Fish                         12            0             476   \n",
       "Mammal                       44           12             968   \n",
       "Nonvascular Plant             0            0            1312   \n",
       "Reptile                       0            0             304   \n",
       "Vascular Plant                4            0           19376   \n",
       "\n",
       "conservation_status  Species of Concern  Threatened  \n",
       "category                                             \n",
       "Amphibian                            16           8  \n",
       "Bird                                320           0  \n",
       "Fish                                 16          20  \n",
       "Mammal                              168           8  \n",
       "Nonvascular Plant                    20           0  \n",
       "Reptile                              20           0  \n",
       "Vascular Plant                      172           8  "
      ]
     },
     "execution_count": 50,
     "metadata": {},
     "output_type": "execute_result"
    }
   ],
   "source": [
    "# analyzing which types of species are more likely to be endangered or have other conservation concerns.\n",
    "\n",
    "category_conservation = merged_df.groupby(['category', 'conservation_status']).size().unstack(fill_value=0)\n",
    "category_conservation"
   ]
  },
  {
   "cell_type": "markdown",
   "id": "9020624e-e558-4534-aa18-36fabcff8942",
   "metadata": {},
   "source": [
    "## Patterns and Relationships:"
   ]
  },
  {
   "cell_type": "markdown",
   "id": "7b49eade-ee56-4ac2-b860-dd2d20a8bc7b",
   "metadata": {},
   "source": [
    "#### Visualizing endangered species category:"
   ]
  },
  {
   "cell_type": "code",
   "execution_count": 75,
   "id": "d4a67187-7719-49fd-ba85-f4d16bce86a4",
   "metadata": {},
   "outputs": [
    {
     "data": {
      "image/png": "[encoded data removed]",
      "text/plain": [
       "<Figure size 640x480 with 1 Axes>"
      ]
     },
     "metadata": {},
     "output_type": "display_data"
    }
   ],
   "source": [
    "# Filter out the endangered species\n",
    "endangered_species = merged_df[merged_df['conservation_status'] == 'Endangered']\n",
    "\n",
    "# Plot the number of endangered species per category\n",
    "sns.countplot(data=endangered_species, x='category')\n",
    "plt.title('Number of Endangered Species per Category')\n",
    "plt.xticks(rotation=45)\n",
    "plt.show()"
   ]
  },
  {
   "cell_type": "markdown",
   "id": "dea24642-f2dd-4a3f-91d7-83e142569248",
   "metadata": {},
   "source": [
    "## Conclusion:"
   ]
  },
  {
   "cell_type": "markdown",
   "id": "a838513a-bfa7-4314-93ac-7260add409e8",
   "metadata": {},
   "source": [
    "In this project, we explored the dataset provided by the National Park Service, focusing on species observed in various national parks. Our initial goal was to investigate patterns in species conservation statuses and understand the biodiversity across different parks. Although we didn't fully dive into the relationship between conservation status and national parks, we did perform essential exploratory data analysis (EDA) to understand the species distribution.\n",
    "\n",
    "- Species Diversity: By examining the common_names of species across parks, we identified a wide variety of species observed in different national parks. Each park shows unique biodiversity, reflected in the diverse species found within them.\n",
    "\n",
    "- Data Overview: Through initial summary statistics and handling missing values (in the conservation_status column), we learned that a significant portion of species data did not have a conservation status. This could point to either incomplete data or species that are not currently under conservation threat.\n",
    "\n",
    "- Data Visualization: We visualized the number of species per park, which gave us a clearer idea of which parks host a higher number of species. This can provide a starting point for further analysis on how environmental factors or geographical location might contribute to species diversity."
   ]
  },
  {
   "cell_type": "markdown",
   "id": "4b0cb9a9-3d72-4643-a8cf-57804737c619",
   "metadata": {},
   "source": [
    "This practice run allowed us to gain familiarity with the dataset and the basic tools for conducting EDA, which will be useful for future in-depth analysis. When we revisit this project, we can expand our insights by exploring the conservation status of species and other aspects of biodiversity.\n",
    "\n"
   ]
  }
 ],
 "metadata": {
  "kernelspec": {
   "display_name": "Python 3 (ipykernel)",
   "language": "python",
   "name": "python3"
  },
  "language_info": {
   "codemirror_mode": {
    "name": "ipython",
    "version": 3
   },
   "file_extension": ".py",
   "mimetype": "text/x-python",
   "name": "python",
   "nbconvert_exporter": "python",
   "pygments_lexer": "ipython3",
   "version": "3.12.4"
  }
 },
 "nbformat": 4,
 "nbformat_minor": 5
}
